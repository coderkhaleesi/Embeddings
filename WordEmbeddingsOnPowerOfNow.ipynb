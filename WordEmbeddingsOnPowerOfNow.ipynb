{
  "nbformat": 4,
  "nbformat_minor": 0,
  "metadata": {
    "colab": {
      "name": "WordEmbeddingsOnPowerOfNow.ipynb",
      "version": "0.3.2",
      "provenance": [],
      "include_colab_link": true
    },
    "kernelspec": {
      "name": "python3",
      "display_name": "Python 3"
    }
  },
  "cells": [
    {
      "cell_type": "markdown",
      "metadata": {
        "id": "view-in-github",
        "colab_type": "text"
      },
      "source": [
        "<a href=\"https://colab.research.google.com/github/tanyadixit21/Embeddings/blob/master/WordEmbeddingsOnPowerOfNow.ipynb\" target=\"_parent\"><img src=\"https://colab.research.google.com/assets/colab-badge.svg\" alt=\"Open In Colab\"/></a>"
      ]
    },
    {
      "metadata": {
        "id": "JHqahUHgPBc5",
        "colab_type": "code",
        "colab": {}
      },
      "cell_type": "code",
      "source": [
        "import os\n",
        "import sys\n",
        "import re\n",
        "from gensim.models import Word2Vec\n",
        "from gensim.models.phrases import Phraser, Phrases"
      ],
      "execution_count": 0,
      "outputs": []
    },
    {
      "metadata": {
        "id": "KywoNK50MEO4",
        "colab_type": "code",
        "colab": {}
      },
      "cell_type": "code",
      "source": [
        "file_path = 'PON.txt'"
      ],
      "execution_count": 0,
      "outputs": []
    },
    {
      "metadata": {
        "id": "CtLUaQvZMWaJ",
        "colab_type": "code",
        "colab": {}
      },
      "cell_type": "code",
      "source": [
        "with open(file_path, 'rb') as f:\n",
        "  text = f.read()"
      ],
      "execution_count": 0,
      "outputs": []
    },
    {
      "metadata": {
        "id": "oB1jVXMHMqtc",
        "colab_type": "code",
        "colab": {}
      },
      "cell_type": "code",
      "source": [
        ""
      ],
      "execution_count": 0,
      "outputs": []
    },
    {
      "metadata": {
        "id": "HuWc-ZGMQHx9",
        "colab_type": "code",
        "colab": {}
      },
      "cell_type": "code",
      "source": [
        "text_string = text.decode('utf-8',  errors='ignore')"
      ],
      "execution_count": 0,
      "outputs": []
    },
    {
      "metadata": {
        "id": "qKeeo3QsOGTc",
        "colab_type": "code",
        "colab": {}
      },
      "cell_type": "code",
      "source": [
        "text_clean1 = re.sub(r'\\r\\n', \" \", text_string)\n",
        "text_clean2 =  re.sub(r'n\\'t', \"not\", text_clean1)\n",
        "text_clean3 =  re.sub(r'-', \" \", text_clean2)\n",
        "text_clean4 =  re.sub(r'\\'s', \"is\", text_clean3)"
      ],
      "execution_count": 0,
      "outputs": []
    },
    {
      "metadata": {
        "id": "XawYYBgeQY1X",
        "colab_type": "code",
        "colab": {}
      },
      "cell_type": "code",
      "source": [
        ""
      ],
      "execution_count": 0,
      "outputs": []
    },
    {
      "metadata": {
        "id": "RkM6wE4vQmgJ",
        "colab_type": "code",
        "colab": {}
      },
      "cell_type": "code",
      "source": [
        "sentences = text_clean4.split(\".\")"
      ],
      "execution_count": 0,
      "outputs": []
    },
    {
      "metadata": {
        "id": "6xK-xqJ6Qsym",
        "colab_type": "code",
        "colab": {}
      },
      "cell_type": "code",
      "source": [
        "input_data = [sentence.split(\" \") for sentence in sentences]"
      ],
      "execution_count": 0,
      "outputs": []
    },
    {
      "metadata": {
        "id": "rG6U963KRMx9",
        "colab_type": "code",
        "colab": {}
      },
      "cell_type": "code",
      "source": [
        "model = Word2Vec(input_data, \n",
        "                 min_count=3,   # Ignore words that appear less than this\n",
        "                 size=200,      # Dimensionality of word embeddings\n",
        "                 workers=2,     # Number of processors (parallelisation)\n",
        "                 window=5,      # Context window for words during training\n",
        "                 iter=30)"
      ],
      "execution_count": 0,
      "outputs": []
    },
    {
      "metadata": {
        "id": "3apWts-KUof6",
        "colab_type": "code",
        "colab": {
          "base_uri": "https://localhost:8080/",
          "height": 34
        },
        "outputId": "b633dbd9-5562-48aa-f451-3a5140bead35"
      },
      "cell_type": "code",
      "source": [
        "model.vector_size"
      ],
      "execution_count": 49,
      "outputs": [
        {
          "output_type": "execute_result",
          "data": {
            "text/plain": [
              "200"
            ]
          },
          "metadata": {
            "tags": []
          },
          "execution_count": 49
        }
      ]
    },
    {
      "metadata": {
        "id": "SYk-aV2CVuCZ",
        "colab_type": "text"
      },
      "cell_type": "markdown",
      "source": [
        "https://www.pydoc.io/pypi/gensim-3.2.0/autoapi/models/word2vec/index.html\n"
      ]
    },
    {
      "metadata": {
        "id": "8dNi-V04U4NP",
        "colab_type": "code",
        "colab": {
          "base_uri": "https://localhost:8080/",
          "height": 241
        },
        "outputId": "3830db94-b466-4fa0-e835-8a118a03daf0"
      },
      "cell_type": "code",
      "source": [
        "model.wv.most_similar(positive=[\"being\", \"now\"], negative=[\"man\"])"
      ],
      "execution_count": 56,
      "outputs": [
        {
          "output_type": "stream",
          "text": [
            "/usr/local/lib/python3.6/dist-packages/gensim/matutils.py:737: FutureWarning: Conversion of the second argument of issubdtype from `int` to `np.signedinteger` is deprecated. In future, it will be treated as `np.int64 == np.dtype(int).type`.\n",
            "  if np.issubdtype(vec.dtype, np.int):\n"
          ],
          "name": "stderr"
        },
        {
          "output_type": "execute_result",
          "data": {
            "text/plain": [
              "[('all', 0.6640884876251221),\n",
              " ('taking', 0.6543219685554504),\n",
              " ('ease', 0.6311596035957336),\n",
              " ('fullness', 0.6158577799797058),\n",
              " ('this', 0.6137595176696777),\n",
              " ('where', 0.6099292039871216),\n",
              " ('surrender', 0.6081349849700928),\n",
              " ('allowing', 0.6056867837905884),\n",
              " ('miracle', 0.6013543009757996),\n",
              " ('access', 0.6006954908370972)]"
            ]
          },
          "metadata": {
            "tags": []
          },
          "execution_count": 56
        }
      ]
    },
    {
      "metadata": {
        "id": "iUtm-nlqV-XF",
        "colab_type": "code",
        "colab": {}
      },
      "cell_type": "code",
      "source": [
        ""
      ],
      "execution_count": 0,
      "outputs": []
    },
    {
      "metadata": {
        "id": "c8NfY3jiWIxJ",
        "colab_type": "text"
      },
      "cell_type": "markdown",
      "source": [
        "For better embeddings, we can use https://github.com/RaRe-Technologies/gensim/blob/develop/docs/notebooks/FastText_Tutorial.ipynb\n"
      ]
    }
  ]
}